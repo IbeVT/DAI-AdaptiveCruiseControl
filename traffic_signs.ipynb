{
  "nbformat": 4,
  "nbformat_minor": 0,
  "metadata": {
    "colab": {
      "provenance": [],
      "gpuType": "T4"
    },
    "kernelspec": {
      "name": "python3",
      "display_name": "Python 3"
    },
    "language_info": {
      "name": "python"
    },
    "accelerator": "GPU"
  },
  "cells": [
    {
      "cell_type": "code",
      "source": [
        "# Install Essential Libraries\n",
        "!pip install ultralytics"
      ],
      "metadata": {
        "colab": {
          "base_uri": "https://localhost:8080/"
        },
        "id": "wbIbXfU-lbz_",
        "outputId": "c0e580a1-7e0d-409d-e19c-20a73e7e870a"
      },
      "execution_count": 2,
      "outputs": [
        {
          "output_type": "stream",
          "name": "stdout",
          "text": [
            "Collecting ultralytics\n",
            "  Downloading ultralytics-8.0.222-py3-none-any.whl (653 kB)\n",
            "\u001b[2K     \u001b[90m━━━━━━━━━━━━━━━━━━━━━━━━━━━━━━━━━━━━━━━━\u001b[0m \u001b[32m654.0/654.0 kB\u001b[0m \u001b[31m5.9 MB/s\u001b[0m eta \u001b[36m0:00:00\u001b[0m\n",
            "\u001b[?25hRequirement already satisfied: matplotlib>=3.3.0 in /usr/local/lib/python3.10/dist-packages (from ultralytics) (3.7.1)\n",
            "Requirement already satisfied: numpy>=1.22.2 in /usr/local/lib/python3.10/dist-packages (from ultralytics) (1.23.5)\n",
            "Requirement already satisfied: opencv-python>=4.6.0 in /usr/local/lib/python3.10/dist-packages (from ultralytics) (4.8.0.76)\n",
            "Requirement already satisfied: pillow>=7.1.2 in /usr/local/lib/python3.10/dist-packages (from ultralytics) (9.4.0)\n",
            "Requirement already satisfied: pyyaml>=5.3.1 in /usr/local/lib/python3.10/dist-packages (from ultralytics) (6.0.1)\n",
            "Requirement already satisfied: requests>=2.23.0 in /usr/local/lib/python3.10/dist-packages (from ultralytics) (2.31.0)\n",
            "Requirement already satisfied: scipy>=1.4.1 in /usr/local/lib/python3.10/dist-packages (from ultralytics) (1.11.4)\n",
            "Requirement already satisfied: torch>=1.8.0 in /usr/local/lib/python3.10/dist-packages (from ultralytics) (2.1.0+cu118)\n",
            "Requirement already satisfied: torchvision>=0.9.0 in /usr/local/lib/python3.10/dist-packages (from ultralytics) (0.16.0+cu118)\n",
            "Requirement already satisfied: tqdm>=4.64.0 in /usr/local/lib/python3.10/dist-packages (from ultralytics) (4.66.1)\n",
            "Requirement already satisfied: pandas>=1.1.4 in /usr/local/lib/python3.10/dist-packages (from ultralytics) (1.5.3)\n",
            "Requirement already satisfied: seaborn>=0.11.0 in /usr/local/lib/python3.10/dist-packages (from ultralytics) (0.12.2)\n",
            "Requirement already satisfied: psutil in /usr/local/lib/python3.10/dist-packages (from ultralytics) (5.9.5)\n",
            "Requirement already satisfied: py-cpuinfo in /usr/local/lib/python3.10/dist-packages (from ultralytics) (9.0.0)\n",
            "Collecting thop>=0.1.1 (from ultralytics)\n",
            "  Downloading thop-0.1.1.post2209072238-py3-none-any.whl (15 kB)\n",
            "Requirement already satisfied: contourpy>=1.0.1 in /usr/local/lib/python3.10/dist-packages (from matplotlib>=3.3.0->ultralytics) (1.2.0)\n",
            "Requirement already satisfied: cycler>=0.10 in /usr/local/lib/python3.10/dist-packages (from matplotlib>=3.3.0->ultralytics) (0.12.1)\n",
            "Requirement already satisfied: fonttools>=4.22.0 in /usr/local/lib/python3.10/dist-packages (from matplotlib>=3.3.0->ultralytics) (4.45.1)\n",
            "Requirement already satisfied: kiwisolver>=1.0.1 in /usr/local/lib/python3.10/dist-packages (from matplotlib>=3.3.0->ultralytics) (1.4.5)\n",
            "Requirement already satisfied: packaging>=20.0 in /usr/local/lib/python3.10/dist-packages (from matplotlib>=3.3.0->ultralytics) (23.2)\n",
            "Requirement already satisfied: pyparsing>=2.3.1 in /usr/local/lib/python3.10/dist-packages (from matplotlib>=3.3.0->ultralytics) (3.1.1)\n",
            "Requirement already satisfied: python-dateutil>=2.7 in /usr/local/lib/python3.10/dist-packages (from matplotlib>=3.3.0->ultralytics) (2.8.2)\n",
            "Requirement already satisfied: pytz>=2020.1 in /usr/local/lib/python3.10/dist-packages (from pandas>=1.1.4->ultralytics) (2023.3.post1)\n",
            "Requirement already satisfied: charset-normalizer<4,>=2 in /usr/local/lib/python3.10/dist-packages (from requests>=2.23.0->ultralytics) (3.3.2)\n",
            "Requirement already satisfied: idna<4,>=2.5 in /usr/local/lib/python3.10/dist-packages (from requests>=2.23.0->ultralytics) (3.6)\n",
            "Requirement already satisfied: urllib3<3,>=1.21.1 in /usr/local/lib/python3.10/dist-packages (from requests>=2.23.0->ultralytics) (2.0.7)\n",
            "Requirement already satisfied: certifi>=2017.4.17 in /usr/local/lib/python3.10/dist-packages (from requests>=2.23.0->ultralytics) (2023.11.17)\n",
            "Requirement already satisfied: filelock in /usr/local/lib/python3.10/dist-packages (from torch>=1.8.0->ultralytics) (3.13.1)\n",
            "Requirement already satisfied: typing-extensions in /usr/local/lib/python3.10/dist-packages (from torch>=1.8.0->ultralytics) (4.5.0)\n",
            "Requirement already satisfied: sympy in /usr/local/lib/python3.10/dist-packages (from torch>=1.8.0->ultralytics) (1.12)\n",
            "Requirement already satisfied: networkx in /usr/local/lib/python3.10/dist-packages (from torch>=1.8.0->ultralytics) (3.2.1)\n",
            "Requirement already satisfied: jinja2 in /usr/local/lib/python3.10/dist-packages (from torch>=1.8.0->ultralytics) (3.1.2)\n",
            "Requirement already satisfied: fsspec in /usr/local/lib/python3.10/dist-packages (from torch>=1.8.0->ultralytics) (2023.6.0)\n",
            "Requirement already satisfied: triton==2.1.0 in /usr/local/lib/python3.10/dist-packages (from torch>=1.8.0->ultralytics) (2.1.0)\n",
            "Requirement already satisfied: six>=1.5 in /usr/local/lib/python3.10/dist-packages (from python-dateutil>=2.7->matplotlib>=3.3.0->ultralytics) (1.16.0)\n",
            "Requirement already satisfied: MarkupSafe>=2.0 in /usr/local/lib/python3.10/dist-packages (from jinja2->torch>=1.8.0->ultralytics) (2.1.3)\n",
            "Requirement already satisfied: mpmath>=0.19 in /usr/local/lib/python3.10/dist-packages (from sympy->torch>=1.8.0->ultralytics) (1.3.0)\n",
            "Installing collected packages: thop, ultralytics\n",
            "Successfully installed thop-0.1.1.post2209072238 ultralytics-8.0.222\n"
          ]
        }
      ]
    },
    {
      "cell_type": "code",
      "execution_count": 3,
      "metadata": {
        "id": "GRcofNH_lTUN"
      },
      "outputs": [],
      "source": [
        "# Import Essential Libraries\n",
        "import os\n",
        "import random\n",
        "import pandas as pd\n",
        "from PIL import Image\n",
        "import cv2\n",
        "from ultralytics import YOLO\n",
        "from IPython.display import Video\n",
        "import numpy as np\n",
        "import matplotlib.pyplot as plt\n",
        "import seaborn as sns\n",
        "sns.set(style='darkgrid')\n",
        "import pathlib\n",
        "import glob\n",
        "from tqdm.notebook import trange, tqdm\n",
        "import warnings\n",
        "warnings.filterwarnings('ignore')"
      ]
    },
    {
      "cell_type": "code",
      "source": [
        "# Build from YAML and transfer weights\n",
        "model = YOLO('yolov8n.yaml').load('yolov8n.pt')\n",
        "\n",
        "# Training The Final Model\n",
        "result_model = model.train(data=\"/content/drive/MyDrive/car/data.yaml\",epochs=30, imgsz = 416, batch = 16 ,lr0=0.001, dropout= 0.05, device = 0)\n",
        "\n"
      ],
      "metadata": {
        "colab": {
          "base_uri": "https://localhost:8080/"
        },
        "id": "lTfKevtiloA6",
        "outputId": "68a0dae0-d59b-4619-f0f9-4acd5934dcd1"
      },
      "execution_count": null,
      "outputs": [
        {
          "output_type": "stream",
          "name": "stdout",
          "text": [
            "\n",
            "                   from  n    params  module                                       arguments                     \n",
            "  0                  -1  1       464  ultralytics.nn.modules.conv.Conv             [3, 16, 3, 2]                 \n",
            "  1                  -1  1      4672  ultralytics.nn.modules.conv.Conv             [16, 32, 3, 2]                \n",
            "  2                  -1  1      7360  ultralytics.nn.modules.block.C2f             [32, 32, 1, True]             \n",
            "  3                  -1  1     18560  ultralytics.nn.modules.conv.Conv             [32, 64, 3, 2]                \n",
            "  4                  -1  2     49664  ultralytics.nn.modules.block.C2f             [64, 64, 2, True]             \n",
            "  5                  -1  1     73984  ultralytics.nn.modules.conv.Conv             [64, 128, 3, 2]               \n",
            "  6                  -1  2    197632  ultralytics.nn.modules.block.C2f             [128, 128, 2, True]           \n",
            "  7                  -1  1    295424  ultralytics.nn.modules.conv.Conv             [128, 256, 3, 2]              \n",
            "  8                  -1  1    460288  ultralytics.nn.modules.block.C2f             [256, 256, 1, True]           \n",
            "  9                  -1  1    164608  ultralytics.nn.modules.block.SPPF            [256, 256, 5]                 \n",
            " 10                  -1  1         0  torch.nn.modules.upsampling.Upsample         [None, 2, 'nearest']          \n",
            " 11             [-1, 6]  1         0  ultralytics.nn.modules.conv.Concat           [1]                           \n",
            " 12                  -1  1    148224  ultralytics.nn.modules.block.C2f             [384, 128, 1]                 \n",
            " 13                  -1  1         0  torch.nn.modules.upsampling.Upsample         [None, 2, 'nearest']          \n",
            " 14             [-1, 4]  1         0  ultralytics.nn.modules.conv.Concat           [1]                           \n",
            " 15                  -1  1     37248  ultralytics.nn.modules.block.C2f             [192, 64, 1]                  \n",
            " 16                  -1  1     36992  ultralytics.nn.modules.conv.Conv             [64, 64, 3, 2]                \n",
            " 17            [-1, 12]  1         0  ultralytics.nn.modules.conv.Concat           [1]                           \n",
            " 18                  -1  1    123648  ultralytics.nn.modules.block.C2f             [192, 128, 1]                 \n",
            " 19                  -1  1    147712  ultralytics.nn.modules.conv.Conv             [128, 128, 3, 2]              \n",
            " 20             [-1, 9]  1         0  ultralytics.nn.modules.conv.Concat           [1]                           \n",
            " 21                  -1  1    493056  ultralytics.nn.modules.block.C2f             [384, 256, 1]                 \n",
            " 22        [15, 18, 21]  1    897664  ultralytics.nn.modules.head.Detect           [80, [64, 128, 256]]          \n",
            "YOLOv8n summary: 225 layers, 3157200 parameters, 3157184 gradients, 8.9 GFLOPs\n",
            "\n",
            "Downloading https://github.com/ultralytics/assets/releases/download/v0.0.0/yolov8n.pt to 'yolov8n.pt'...\n"
          ]
        },
        {
          "output_type": "stream",
          "name": "stderr",
          "text": [
            "100%|██████████| 6.23M/6.23M [00:00<00:00, 80.1MB/s]"
          ]
        },
        {
          "output_type": "stream",
          "name": "stdout",
          "text": [
            "Transferred 355/355 items from pretrained weights\n"
          ]
        },
        {
          "output_type": "stream",
          "name": "stderr",
          "text": [
            "\n"
          ]
        },
        {
          "output_type": "stream",
          "name": "stdout",
          "text": [
            "Ultralytics YOLOv8.0.222 🚀 Python-3.10.12 torch-2.1.0+cu118 CUDA:0 (Tesla T4, 15102MiB)\n",
            "\u001b[34m\u001b[1mengine/trainer: \u001b[0mtask=detect, mode=train, model=yolov8n.yaml, data=/content/drive/MyDrive/car/data.yaml, epochs=30, patience=50, batch=16, imgsz=416, save=True, save_period=-1, cache=False, device=0, workers=8, project=None, name=train, exist_ok=False, pretrained=True, optimizer=auto, verbose=True, seed=0, deterministic=True, single_cls=False, rect=False, cos_lr=False, close_mosaic=10, resume=False, amp=True, fraction=1.0, profile=False, freeze=None, overlap_mask=True, mask_ratio=4, dropout=0.05, val=True, split=val, save_json=False, save_hybrid=False, conf=None, iou=0.7, max_det=300, half=False, dnn=False, plots=True, source=None, vid_stride=1, stream_buffer=False, visualize=False, augment=False, agnostic_nms=False, classes=None, retina_masks=False, show=False, save_frames=False, save_txt=False, save_conf=False, save_crop=False, show_labels=True, show_conf=True, show_boxes=True, line_width=None, format=torchscript, keras=False, optimize=False, int8=False, dynamic=False, simplify=False, opset=None, workspace=4, nms=False, lr0=0.001, lrf=0.01, momentum=0.937, weight_decay=0.0005, warmup_epochs=3.0, warmup_momentum=0.8, warmup_bias_lr=0.1, box=7.5, cls=0.5, dfl=1.5, pose=12.0, kobj=1.0, label_smoothing=0.0, nbs=64, hsv_h=0.015, hsv_s=0.7, hsv_v=0.4, degrees=0.0, translate=0.1, scale=0.5, shear=0.0, perspective=0.0, flipud=0.0, fliplr=0.5, mosaic=1.0, mixup=0.0, copy_paste=0.0, cfg=None, tracker=botsort.yaml, save_dir=runs/detect/train\n",
            "Downloading https://ultralytics.com/assets/Arial.ttf to '/root/.config/Ultralytics/Arial.ttf'...\n"
          ]
        },
        {
          "output_type": "stream",
          "name": "stderr",
          "text": [
            "100%|██████████| 755k/755k [00:00<00:00, 15.3MB/s]\n"
          ]
        },
        {
          "output_type": "stream",
          "name": "stdout",
          "text": [
            "Overriding model.yaml nc=80 with nc=15\n",
            "\n",
            "                   from  n    params  module                                       arguments                     \n",
            "  0                  -1  1       464  ultralytics.nn.modules.conv.Conv             [3, 16, 3, 2]                 \n",
            "  1                  -1  1      4672  ultralytics.nn.modules.conv.Conv             [16, 32, 3, 2]                \n",
            "  2                  -1  1      7360  ultralytics.nn.modules.block.C2f             [32, 32, 1, True]             \n",
            "  3                  -1  1     18560  ultralytics.nn.modules.conv.Conv             [32, 64, 3, 2]                \n",
            "  4                  -1  2     49664  ultralytics.nn.modules.block.C2f             [64, 64, 2, True]             \n",
            "  5                  -1  1     73984  ultralytics.nn.modules.conv.Conv             [64, 128, 3, 2]               \n",
            "  6                  -1  2    197632  ultralytics.nn.modules.block.C2f             [128, 128, 2, True]           \n",
            "  7                  -1  1    295424  ultralytics.nn.modules.conv.Conv             [128, 256, 3, 2]              \n",
            "  8                  -1  1    460288  ultralytics.nn.modules.block.C2f             [256, 256, 1, True]           \n",
            "  9                  -1  1    164608  ultralytics.nn.modules.block.SPPF            [256, 256, 5]                 \n",
            " 10                  -1  1         0  torch.nn.modules.upsampling.Upsample         [None, 2, 'nearest']          \n",
            " 11             [-1, 6]  1         0  ultralytics.nn.modules.conv.Concat           [1]                           \n",
            " 12                  -1  1    148224  ultralytics.nn.modules.block.C2f             [384, 128, 1]                 \n",
            " 13                  -1  1         0  torch.nn.modules.upsampling.Upsample         [None, 2, 'nearest']          \n",
            " 14             [-1, 4]  1         0  ultralytics.nn.modules.conv.Concat           [1]                           \n",
            " 15                  -1  1     37248  ultralytics.nn.modules.block.C2f             [192, 64, 1]                  \n",
            " 16                  -1  1     36992  ultralytics.nn.modules.conv.Conv             [64, 64, 3, 2]                \n",
            " 17            [-1, 12]  1         0  ultralytics.nn.modules.conv.Concat           [1]                           \n",
            " 18                  -1  1    123648  ultralytics.nn.modules.block.C2f             [192, 128, 1]                 \n",
            " 19                  -1  1    147712  ultralytics.nn.modules.conv.Conv             [128, 128, 3, 2]              \n",
            " 20             [-1, 9]  1         0  ultralytics.nn.modules.conv.Concat           [1]                           \n",
            " 21                  -1  1    493056  ultralytics.nn.modules.block.C2f             [384, 256, 1]                 \n",
            " 22        [15, 18, 21]  1    754237  ultralytics.nn.modules.head.Detect           [15, [64, 128, 256]]          \n",
            "YOLOv8n summary: 225 layers, 3013773 parameters, 3013757 gradients, 8.2 GFLOPs\n",
            "\n",
            "Transferred 319/355 items from pretrained weights\n",
            "\u001b[34m\u001b[1mTensorBoard: \u001b[0mStart with 'tensorboard --logdir runs/detect/train', view at http://localhost:6006/\n",
            "Freezing layer 'model.22.dfl.conv.weight'\n",
            "\u001b[34m\u001b[1mAMP: \u001b[0mrunning Automatic Mixed Precision (AMP) checks with YOLOv8n...\n",
            "\u001b[34m\u001b[1mAMP: \u001b[0mchecks passed ✅\n"
          ]
        },
        {
          "output_type": "stream",
          "name": "stderr",
          "text": [
            "\u001b[34m\u001b[1mtrain: \u001b[0mScanning /content/drive/MyDrive/car/train/labels.cache... 3530 images, 16 backgrounds, 0 corrupt: 100%|██████████| 3543/3543 [00:00<?, ?it/s]\n"
          ]
        },
        {
          "output_type": "stream",
          "name": "stdout",
          "text": [
            "\u001b[34m\u001b[1malbumentations: \u001b[0mBlur(p=0.01, blur_limit=(3, 7)), MedianBlur(p=0.01, blur_limit=(3, 7)), ToGray(p=0.01), CLAHE(p=0.01, clip_limit=(1, 4.0), tile_grid_size=(8, 8))\n"
          ]
        },
        {
          "output_type": "stream",
          "name": "stderr",
          "text": [
            "\u001b[34m\u001b[1mval: \u001b[0mScanning /content/drive/MyDrive/car/valid/labels.cache... 801 images, 0 backgrounds, 0 corrupt: 100%|██████████| 801/801 [00:00<?, ?it/s]\n"
          ]
        },
        {
          "output_type": "stream",
          "name": "stdout",
          "text": [
            "Plotting labels to runs/detect/train/labels.jpg... \n",
            "\u001b[34m\u001b[1moptimizer:\u001b[0m 'optimizer=auto' found, ignoring 'lr0=0.001' and 'momentum=0.937' and determining best 'optimizer', 'lr0' and 'momentum' automatically... \n",
            "\u001b[34m\u001b[1moptimizer:\u001b[0m AdamW(lr=0.000526, momentum=0.9) with parameter groups 57 weight(decay=0.0), 64 weight(decay=0.0005), 63 bias(decay=0.0)\n",
            "Image sizes 416 train, 416 val\n",
            "Using 2 dataloader workers\n",
            "Logging results to \u001b[1mruns/detect/train\u001b[0m\n",
            "Starting training for 30 epochs...\n",
            "\n",
            "      Epoch    GPU_mem   box_loss   cls_loss   dfl_loss  Instances       Size\n"
          ]
        },
        {
          "output_type": "stream",
          "name": "stderr",
          "text": [
            "       1/30      1.31G     0.8177      3.117      1.077         10        416: 100%|██████████| 222/222 [01:05<00:00,  3.38it/s]\n",
            "                 Class     Images  Instances      Box(P          R      mAP50  mAP50-95): 100%|██████████| 26/26 [01:14<00:00,  2.85s/it]"
          ]
        },
        {
          "output_type": "stream",
          "name": "stdout",
          "text": [
            "                   all        801        944      0.255       0.46      0.229      0.183\n"
          ]
        },
        {
          "output_type": "stream",
          "name": "stderr",
          "text": [
            "\n"
          ]
        },
        {
          "output_type": "stream",
          "name": "stdout",
          "text": [
            "\n",
            "      Epoch    GPU_mem   box_loss   cls_loss   dfl_loss  Instances       Size\n"
          ]
        },
        {
          "output_type": "stream",
          "name": "stderr",
          "text": [
            "       2/30      1.32G     0.7444      2.215       1.02         14        416: 100%|██████████| 222/222 [00:54<00:00,  4.05it/s]\n",
            "                 Class     Images  Instances      Box(P          R      mAP50  mAP50-95): 100%|██████████| 26/26 [00:08<00:00,  3.24it/s]"
          ]
        },
        {
          "output_type": "stream",
          "name": "stdout",
          "text": [
            "                   all        801        944       0.29      0.507      0.352      0.294\n"
          ]
        },
        {
          "output_type": "stream",
          "name": "stderr",
          "text": [
            "\n"
          ]
        },
        {
          "output_type": "stream",
          "name": "stdout",
          "text": [
            "\n",
            "      Epoch    GPU_mem   box_loss   cls_loss   dfl_loss  Instances       Size\n"
          ]
        },
        {
          "output_type": "stream",
          "name": "stderr",
          "text": [
            "       3/30      1.32G     0.7361      1.971       1.01         13        416: 100%|██████████| 222/222 [00:52<00:00,  4.20it/s]\n",
            "                 Class     Images  Instances      Box(P          R      mAP50  mAP50-95): 100%|██████████| 26/26 [00:06<00:00,  4.07it/s]"
          ]
        },
        {
          "output_type": "stream",
          "name": "stdout",
          "text": [
            "                   all        801        944      0.522      0.447      0.454      0.381\n"
          ]
        },
        {
          "output_type": "stream",
          "name": "stderr",
          "text": [
            "\n"
          ]
        },
        {
          "output_type": "stream",
          "name": "stdout",
          "text": [
            "\n",
            "      Epoch    GPU_mem   box_loss   cls_loss   dfl_loss  Instances       Size\n"
          ]
        },
        {
          "output_type": "stream",
          "name": "stderr",
          "text": [
            "       4/30      1.31G     0.7128      1.729      0.998         21        416: 100%|██████████| 222/222 [00:54<00:00,  4.04it/s]\n",
            "                 Class     Images  Instances      Box(P          R      mAP50  mAP50-95): 100%|██████████| 26/26 [00:09<00:00,  2.88it/s]"
          ]
        },
        {
          "output_type": "stream",
          "name": "stdout",
          "text": [
            "                   all        801        944      0.568      0.602      0.617      0.505\n"
          ]
        },
        {
          "output_type": "stream",
          "name": "stderr",
          "text": [
            "\n"
          ]
        },
        {
          "output_type": "stream",
          "name": "stdout",
          "text": [
            "\n",
            "      Epoch    GPU_mem   box_loss   cls_loss   dfl_loss  Instances       Size\n"
          ]
        },
        {
          "output_type": "stream",
          "name": "stderr",
          "text": [
            "       5/30      1.32G     0.6932      1.501     0.9821         14        416: 100%|██████████| 222/222 [00:52<00:00,  4.22it/s]\n",
            "                 Class     Images  Instances      Box(P          R      mAP50  mAP50-95): 100%|██████████| 26/26 [00:06<00:00,  4.14it/s]"
          ]
        },
        {
          "output_type": "stream",
          "name": "stdout",
          "text": [
            "                   all        801        944      0.593      0.634      0.651      0.543\n"
          ]
        },
        {
          "output_type": "stream",
          "name": "stderr",
          "text": [
            "\n"
          ]
        },
        {
          "output_type": "stream",
          "name": "stdout",
          "text": [
            "\n",
            "      Epoch    GPU_mem   box_loss   cls_loss   dfl_loss  Instances       Size\n"
          ]
        },
        {
          "output_type": "stream",
          "name": "stderr",
          "text": [
            "       6/30      1.31G     0.6726      1.399     0.9726         14        416: 100%|██████████| 222/222 [00:52<00:00,  4.23it/s]\n",
            "                 Class     Images  Instances      Box(P          R      mAP50  mAP50-95): 100%|██████████| 26/26 [00:08<00:00,  2.97it/s]"
          ]
        },
        {
          "output_type": "stream",
          "name": "stdout",
          "text": [
            "                   all        801        944      0.746      0.678      0.744      0.629\n"
          ]
        },
        {
          "output_type": "stream",
          "name": "stderr",
          "text": [
            "\n"
          ]
        },
        {
          "output_type": "stream",
          "name": "stdout",
          "text": [
            "\n",
            "      Epoch    GPU_mem   box_loss   cls_loss   dfl_loss  Instances       Size\n"
          ]
        },
        {
          "output_type": "stream",
          "name": "stderr",
          "text": [
            "       7/30      1.32G     0.6492      1.234     0.9698         16        416: 100%|██████████| 222/222 [00:52<00:00,  4.23it/s]\n",
            "                 Class     Images  Instances      Box(P          R      mAP50  mAP50-95): 100%|██████████| 26/26 [00:06<00:00,  4.17it/s]"
          ]
        },
        {
          "output_type": "stream",
          "name": "stdout",
          "text": [
            "                   all        801        944      0.794      0.684      0.772      0.653\n"
          ]
        },
        {
          "output_type": "stream",
          "name": "stderr",
          "text": [
            "\n"
          ]
        },
        {
          "output_type": "stream",
          "name": "stdout",
          "text": [
            "\n",
            "      Epoch    GPU_mem   box_loss   cls_loss   dfl_loss  Instances       Size\n"
          ]
        },
        {
          "output_type": "stream",
          "name": "stderr",
          "text": [
            "       8/30      1.31G      0.646      1.181     0.9597         19        416: 100%|██████████| 222/222 [00:52<00:00,  4.24it/s]\n",
            "                 Class     Images  Instances      Box(P          R      mAP50  mAP50-95): 100%|██████████| 26/26 [00:08<00:00,  2.95it/s]"
          ]
        },
        {
          "output_type": "stream",
          "name": "stdout",
          "text": [
            "                   all        801        944      0.794      0.744      0.806      0.689\n"
          ]
        },
        {
          "output_type": "stream",
          "name": "stderr",
          "text": [
            "\n"
          ]
        },
        {
          "output_type": "stream",
          "name": "stdout",
          "text": [
            "\n",
            "      Epoch    GPU_mem   box_loss   cls_loss   dfl_loss  Instances       Size\n"
          ]
        },
        {
          "output_type": "stream",
          "name": "stderr",
          "text": [
            "       9/30      1.32G     0.6307      1.097     0.9556         21        416: 100%|██████████| 222/222 [00:52<00:00,  4.26it/s]\n",
            "                 Class     Images  Instances      Box(P          R      mAP50  mAP50-95): 100%|██████████| 26/26 [00:06<00:00,  4.07it/s]"
          ]
        },
        {
          "output_type": "stream",
          "name": "stdout",
          "text": [
            "                   all        801        944      0.833      0.764      0.833      0.713\n"
          ]
        },
        {
          "output_type": "stream",
          "name": "stderr",
          "text": [
            "\n"
          ]
        },
        {
          "output_type": "stream",
          "name": "stdout",
          "text": [
            "\n",
            "      Epoch    GPU_mem   box_loss   cls_loss   dfl_loss  Instances       Size\n"
          ]
        },
        {
          "output_type": "stream",
          "name": "stderr",
          "text": [
            "      10/30      1.31G     0.6295      1.054      0.956         22        416: 100%|██████████| 222/222 [00:56<00:00,  3.92it/s]\n",
            "                 Class     Images  Instances      Box(P          R      mAP50  mAP50-95): 100%|██████████| 26/26 [00:07<00:00,  3.33it/s]"
          ]
        },
        {
          "output_type": "stream",
          "name": "stdout",
          "text": [
            "                   all        801        944      0.794      0.761      0.826      0.705\n"
          ]
        },
        {
          "output_type": "stream",
          "name": "stderr",
          "text": [
            "\n"
          ]
        },
        {
          "output_type": "stream",
          "name": "stdout",
          "text": [
            "\n",
            "      Epoch    GPU_mem   box_loss   cls_loss   dfl_loss  Instances       Size\n"
          ]
        },
        {
          "output_type": "stream",
          "name": "stderr",
          "text": [
            "      11/30      1.32G     0.6192     0.9976     0.9543         11        416: 100%|██████████| 222/222 [00:51<00:00,  4.28it/s]\n",
            "                 Class     Images  Instances      Box(P          R      mAP50  mAP50-95): 100%|██████████| 26/26 [00:06<00:00,  3.88it/s]\n"
          ]
        },
        {
          "output_type": "stream",
          "name": "stdout",
          "text": [
            "                   all        801        944      0.892      0.751      0.843       0.72\n",
            "\n",
            "      Epoch    GPU_mem   box_loss   cls_loss   dfl_loss  Instances       Size\n"
          ]
        },
        {
          "output_type": "stream",
          "name": "stderr",
          "text": [
            "      12/30      1.31G     0.6139     0.9483     0.9483         16        416: 100%|██████████| 222/222 [00:52<00:00,  4.25it/s]\n",
            "                 Class     Images  Instances      Box(P          R      mAP50  mAP50-95): 100%|██████████| 26/26 [00:08<00:00,  3.18it/s]"
          ]
        },
        {
          "output_type": "stream",
          "name": "stdout",
          "text": [
            "                   all        801        944      0.855      0.795      0.848      0.723\n"
          ]
        },
        {
          "output_type": "stream",
          "name": "stderr",
          "text": [
            "\n"
          ]
        },
        {
          "output_type": "stream",
          "name": "stdout",
          "text": [
            "\n",
            "      Epoch    GPU_mem   box_loss   cls_loss   dfl_loss  Instances       Size\n"
          ]
        },
        {
          "output_type": "stream",
          "name": "stderr",
          "text": [
            "      13/30      1.32G     0.6131     0.9064     0.9491         20        416: 100%|██████████| 222/222 [00:52<00:00,  4.24it/s]\n",
            "                 Class     Images  Instances      Box(P          R      mAP50  mAP50-95): 100%|██████████| 26/26 [00:06<00:00,  4.12it/s]"
          ]
        },
        {
          "output_type": "stream",
          "name": "stdout",
          "text": [
            "                   all        801        944      0.892      0.798      0.864      0.737\n"
          ]
        },
        {
          "output_type": "stream",
          "name": "stderr",
          "text": [
            "\n"
          ]
        },
        {
          "output_type": "stream",
          "name": "stdout",
          "text": [
            "\n",
            "      Epoch    GPU_mem   box_loss   cls_loss   dfl_loss  Instances       Size\n"
          ]
        },
        {
          "output_type": "stream",
          "name": "stderr",
          "text": [
            "      14/30      1.31G     0.6075     0.9097     0.9513         23        416: 100%|██████████| 222/222 [00:52<00:00,  4.25it/s]\n",
            "                 Class     Images  Instances      Box(P          R      mAP50  mAP50-95): 100%|██████████| 26/26 [00:08<00:00,  3.08it/s]"
          ]
        },
        {
          "output_type": "stream",
          "name": "stdout",
          "text": [
            "                   all        801        944      0.902      0.801      0.873      0.743\n"
          ]
        },
        {
          "output_type": "stream",
          "name": "stderr",
          "text": [
            "\n"
          ]
        },
        {
          "output_type": "stream",
          "name": "stdout",
          "text": [
            "\n",
            "      Epoch    GPU_mem   box_loss   cls_loss   dfl_loss  Instances       Size\n"
          ]
        },
        {
          "output_type": "stream",
          "name": "stderr",
          "text": [
            "      15/30      1.32G     0.5835     0.8592     0.9376         17        416: 100%|██████████| 222/222 [00:54<00:00,  4.04it/s]\n",
            "                 Class     Images  Instances      Box(P          R      mAP50  mAP50-95): 100%|██████████| 26/26 [00:06<00:00,  3.84it/s]"
          ]
        },
        {
          "output_type": "stream",
          "name": "stdout",
          "text": [
            "                   all        801        944      0.919      0.795      0.875      0.752\n"
          ]
        },
        {
          "output_type": "stream",
          "name": "stderr",
          "text": [
            "\n"
          ]
        },
        {
          "output_type": "stream",
          "name": "stdout",
          "text": [
            "\n",
            "      Epoch    GPU_mem   box_loss   cls_loss   dfl_loss  Instances       Size\n"
          ]
        },
        {
          "output_type": "stream",
          "name": "stderr",
          "text": [
            "      16/30      1.31G     0.5805     0.8301     0.9375         12        416: 100%|██████████| 222/222 [00:52<00:00,  4.24it/s]\n",
            "                 Class     Images  Instances      Box(P          R      mAP50  mAP50-95): 100%|██████████| 26/26 [00:08<00:00,  3.05it/s]"
          ]
        },
        {
          "output_type": "stream",
          "name": "stdout",
          "text": [
            "                   all        801        944      0.928      0.794      0.875      0.752\n"
          ]
        },
        {
          "output_type": "stream",
          "name": "stderr",
          "text": [
            "\n"
          ]
        },
        {
          "output_type": "stream",
          "name": "stdout",
          "text": [
            "\n",
            "      Epoch    GPU_mem   box_loss   cls_loss   dfl_loss  Instances       Size\n"
          ]
        },
        {
          "output_type": "stream",
          "name": "stderr",
          "text": [
            "      17/30      1.32G     0.5826      0.823     0.9396          9        416: 100%|██████████| 222/222 [00:51<00:00,  4.29it/s]\n",
            "                 Class     Images  Instances      Box(P          R      mAP50  mAP50-95): 100%|██████████| 26/26 [00:06<00:00,  3.98it/s]"
          ]
        },
        {
          "output_type": "stream",
          "name": "stdout",
          "text": [
            "                   all        801        944      0.919       0.82      0.894      0.768\n"
          ]
        },
        {
          "output_type": "stream",
          "name": "stderr",
          "text": [
            "\n"
          ]
        },
        {
          "output_type": "stream",
          "name": "stdout",
          "text": [
            "\n",
            "      Epoch    GPU_mem   box_loss   cls_loss   dfl_loss  Instances       Size\n"
          ]
        },
        {
          "output_type": "stream",
          "name": "stderr",
          "text": [
            "      18/30      1.31G     0.5799     0.7968     0.9343         15        416: 100%|██████████| 222/222 [00:52<00:00,  4.21it/s]\n",
            "                 Class     Images  Instances      Box(P          R      mAP50  mAP50-95): 100%|██████████| 26/26 [00:07<00:00,  3.31it/s]\n"
          ]
        },
        {
          "output_type": "stream",
          "name": "stdout",
          "text": [
            "                   all        801        944      0.936      0.815      0.891      0.769\n",
            "\n",
            "      Epoch    GPU_mem   box_loss   cls_loss   dfl_loss  Instances       Size\n"
          ]
        },
        {
          "output_type": "stream",
          "name": "stderr",
          "text": [
            "      19/30      1.32G      0.568     0.7594      0.933         16        416: 100%|██████████| 222/222 [00:52<00:00,  4.23it/s]\n",
            "                 Class     Images  Instances      Box(P          R      mAP50  mAP50-95): 100%|██████████| 26/26 [00:06<00:00,  3.91it/s]"
          ]
        },
        {
          "output_type": "stream",
          "name": "stdout",
          "text": [
            "                   all        801        944      0.944       0.81      0.893      0.764\n"
          ]
        },
        {
          "output_type": "stream",
          "name": "stderr",
          "text": [
            "\n"
          ]
        },
        {
          "output_type": "stream",
          "name": "stdout",
          "text": [
            "\n",
            "      Epoch    GPU_mem   box_loss   cls_loss   dfl_loss  Instances       Size\n"
          ]
        },
        {
          "output_type": "stream",
          "name": "stderr",
          "text": [
            "      20/30      1.31G     0.5679      0.739     0.9336         14        416: 100%|██████████| 222/222 [00:52<00:00,  4.23it/s]\n",
            "                 Class     Images  Instances      Box(P          R      mAP50  mAP50-95): 100%|██████████| 26/26 [00:08<00:00,  3.22it/s]"
          ]
        },
        {
          "output_type": "stream",
          "name": "stdout",
          "text": [
            "                   all        801        944      0.926      0.836        0.9       0.77\n"
          ]
        },
        {
          "output_type": "stream",
          "name": "stderr",
          "text": [
            "\n"
          ]
        },
        {
          "output_type": "stream",
          "name": "stdout",
          "text": [
            "Closing dataloader mosaic\n",
            "\u001b[34m\u001b[1malbumentations: \u001b[0mBlur(p=0.01, blur_limit=(3, 7)), MedianBlur(p=0.01, blur_limit=(3, 7)), ToGray(p=0.01), CLAHE(p=0.01, clip_limit=(1, 4.0), tile_grid_size=(8, 8))\n",
            "\n",
            "      Epoch    GPU_mem   box_loss   cls_loss   dfl_loss  Instances       Size\n"
          ]
        },
        {
          "output_type": "stream",
          "name": "stderr",
          "text": [
            "      21/30      1.32G     0.5473     0.5386     0.8852         11        416: 100%|██████████| 222/222 [00:52<00:00,  4.21it/s]\n",
            "                 Class     Images  Instances      Box(P          R      mAP50  mAP50-95): 100%|██████████| 26/26 [00:08<00:00,  3.22it/s]"
          ]
        },
        {
          "output_type": "stream",
          "name": "stdout",
          "text": [
            "                   all        801        944      0.939       0.81      0.893      0.771\n"
          ]
        },
        {
          "output_type": "stream",
          "name": "stderr",
          "text": [
            "\n"
          ]
        },
        {
          "output_type": "stream",
          "name": "stdout",
          "text": [
            "\n",
            "      Epoch    GPU_mem   box_loss   cls_loss   dfl_loss  Instances       Size\n"
          ]
        },
        {
          "output_type": "stream",
          "name": "stderr",
          "text": [
            "      22/30      1.31G     0.5332     0.4953     0.8793          6        416: 100%|██████████| 222/222 [00:50<00:00,  4.43it/s]\n",
            "                 Class     Images  Instances      Box(P          R      mAP50  mAP50-95): 100%|██████████| 26/26 [00:06<00:00,  4.23it/s]"
          ]
        },
        {
          "output_type": "stream",
          "name": "stdout",
          "text": [
            "                   all        801        944      0.942      0.821      0.902      0.782\n"
          ]
        },
        {
          "output_type": "stream",
          "name": "stderr",
          "text": [
            "\n"
          ]
        },
        {
          "output_type": "stream",
          "name": "stdout",
          "text": [
            "\n",
            "      Epoch    GPU_mem   box_loss   cls_loss   dfl_loss  Instances       Size\n"
          ]
        },
        {
          "output_type": "stream",
          "name": "stderr",
          "text": [
            "      23/30      1.32G     0.5304     0.4807     0.8749          8        416: 100%|██████████| 222/222 [00:50<00:00,  4.40it/s]\n",
            "                 Class     Images  Instances      Box(P          R      mAP50  mAP50-95): 100%|██████████| 26/26 [00:07<00:00,  3.48it/s]"
          ]
        },
        {
          "output_type": "stream",
          "name": "stdout",
          "text": [
            "                   all        801        944      0.935      0.845      0.911      0.787\n"
          ]
        },
        {
          "output_type": "stream",
          "name": "stderr",
          "text": [
            "\n"
          ]
        },
        {
          "output_type": "stream",
          "name": "stdout",
          "text": [
            "\n",
            "      Epoch    GPU_mem   box_loss   cls_loss   dfl_loss  Instances       Size\n"
          ]
        },
        {
          "output_type": "stream",
          "name": "stderr",
          "text": [
            "      24/30      1.31G     0.5283     0.4632     0.8727         11        416: 100%|██████████| 222/222 [00:50<00:00,  4.43it/s]\n",
            "                 Class     Images  Instances      Box(P          R      mAP50  mAP50-95): 100%|██████████| 26/26 [00:07<00:00,  3.27it/s]"
          ]
        },
        {
          "output_type": "stream",
          "name": "stdout",
          "text": [
            "                   all        801        944       0.92      0.848      0.911      0.786\n"
          ]
        },
        {
          "output_type": "stream",
          "name": "stderr",
          "text": [
            "\n"
          ]
        },
        {
          "output_type": "stream",
          "name": "stdout",
          "text": [
            "\n",
            "      Epoch    GPU_mem   box_loss   cls_loss   dfl_loss  Instances       Size\n"
          ]
        },
        {
          "output_type": "stream",
          "name": "stderr",
          "text": [
            "      25/30      1.32G     0.5185     0.4558     0.8685         10        416: 100%|██████████| 222/222 [00:50<00:00,  4.39it/s]\n",
            "                 Class     Images  Instances      Box(P          R      mAP50  mAP50-95): 100%|██████████| 26/26 [00:06<00:00,  4.24it/s]"
          ]
        },
        {
          "output_type": "stream",
          "name": "stdout",
          "text": [
            "                   all        801        944      0.965      0.835      0.912      0.792\n"
          ]
        },
        {
          "output_type": "stream",
          "name": "stderr",
          "text": [
            "\n"
          ]
        },
        {
          "output_type": "stream",
          "name": "stdout",
          "text": [
            "\n",
            "      Epoch    GPU_mem   box_loss   cls_loss   dfl_loss  Instances       Size\n"
          ]
        },
        {
          "output_type": "stream",
          "name": "stderr",
          "text": [
            "      26/30      1.31G     0.5117     0.4391     0.8652          7        416: 100%|██████████| 222/222 [00:50<00:00,  4.43it/s]\n",
            "                 Class     Images  Instances      Box(P          R      mAP50  mAP50-95): 100%|██████████| 26/26 [00:07<00:00,  3.34it/s]"
          ]
        },
        {
          "output_type": "stream",
          "name": "stdout",
          "text": [
            "                   all        801        944      0.942      0.839      0.912      0.792\n"
          ]
        },
        {
          "output_type": "stream",
          "name": "stderr",
          "text": [
            "\n"
          ]
        },
        {
          "output_type": "stream",
          "name": "stdout",
          "text": [
            "\n",
            "      Epoch    GPU_mem   box_loss   cls_loss   dfl_loss  Instances       Size\n"
          ]
        },
        {
          "output_type": "stream",
          "name": "stderr",
          "text": [
            "      27/30      1.31G     0.4988     0.4224     0.8691          6        416: 100%|██████████| 222/222 [00:48<00:00,  4.57it/s]\n",
            "                 Class     Images  Instances      Box(P          R      mAP50  mAP50-95): 100%|██████████| 26/26 [00:08<00:00,  3.18it/s]"
          ]
        },
        {
          "output_type": "stream",
          "name": "stdout",
          "text": [
            "                   all        801        944      0.947      0.846      0.919      0.797\n"
          ]
        },
        {
          "output_type": "stream",
          "name": "stderr",
          "text": [
            "\n"
          ]
        },
        {
          "output_type": "stream",
          "name": "stdout",
          "text": [
            "\n",
            "      Epoch    GPU_mem   box_loss   cls_loss   dfl_loss  Instances       Size\n"
          ]
        },
        {
          "output_type": "stream",
          "name": "stderr",
          "text": [
            "      28/30      1.31G     0.4969     0.4089     0.8641          7        416: 100%|██████████| 222/222 [00:50<00:00,  4.39it/s]\n",
            "                 Class     Images  Instances      Box(P          R      mAP50  mAP50-95): 100%|██████████| 26/26 [00:06<00:00,  4.15it/s]"
          ]
        },
        {
          "output_type": "stream",
          "name": "stdout",
          "text": [
            "                   all        801        944      0.948      0.853      0.916      0.798\n"
          ]
        },
        {
          "output_type": "stream",
          "name": "stderr",
          "text": [
            "\n"
          ]
        },
        {
          "output_type": "stream",
          "name": "stdout",
          "text": [
            "\n",
            "      Epoch    GPU_mem   box_loss   cls_loss   dfl_loss  Instances       Size\n"
          ]
        },
        {
          "output_type": "stream",
          "name": "stderr",
          "text": [
            "      29/30      1.32G     0.4893     0.3928     0.8609          7        416: 100%|██████████| 222/222 [00:50<00:00,  4.37it/s]\n",
            "                 Class     Images  Instances      Box(P          R      mAP50  mAP50-95): 100%|██████████| 26/26 [00:07<00:00,  3.41it/s]"
          ]
        },
        {
          "output_type": "stream",
          "name": "stdout",
          "text": [
            "                   all        801        944      0.937      0.873      0.921      0.805\n"
          ]
        },
        {
          "output_type": "stream",
          "name": "stderr",
          "text": [
            "\n"
          ]
        },
        {
          "output_type": "stream",
          "name": "stdout",
          "text": [
            "\n",
            "      Epoch    GPU_mem   box_loss   cls_loss   dfl_loss  Instances       Size\n"
          ]
        },
        {
          "output_type": "stream",
          "name": "stderr",
          "text": [
            "      30/30      1.31G     0.4839     0.3833     0.8599          8        416: 100%|██████████| 222/222 [00:49<00:00,  4.47it/s]\n",
            "                 Class     Images  Instances      Box(P          R      mAP50  mAP50-95): 100%|██████████| 26/26 [00:08<00:00,  3.13it/s]"
          ]
        },
        {
          "output_type": "stream",
          "name": "stdout",
          "text": [
            "                   all        801        944      0.947      0.861       0.92      0.806\n"
          ]
        },
        {
          "output_type": "stream",
          "name": "stderr",
          "text": [
            "\n"
          ]
        },
        {
          "output_type": "stream",
          "name": "stdout",
          "text": [
            "\n",
            "30 epochs completed in 0.526 hours.\n",
            "Optimizer stripped from runs/detect/train/weights/last.pt, 6.2MB\n",
            "Optimizer stripped from runs/detect/train/weights/best.pt, 6.2MB\n",
            "\n",
            "Validating runs/detect/train/weights/best.pt...\n",
            "Ultralytics YOLOv8.0.222 🚀 Python-3.10.12 torch-2.1.0+cu118 CUDA:0 (Tesla T4, 15102MiB)\n",
            "YOLOv8n summary (fused): 168 layers, 3008573 parameters, 0 gradients, 8.1 GFLOPs\n"
          ]
        },
        {
          "output_type": "stream",
          "name": "stderr",
          "text": [
            "                 Class     Images  Instances      Box(P          R      mAP50  mAP50-95): 100%|██████████| 26/26 [00:10<00:00,  2.54it/s]\n"
          ]
        },
        {
          "output_type": "stream",
          "name": "stdout",
          "text": [
            "                   all        801        944      0.945      0.863       0.92      0.806\n",
            "           Green Light        801        122      0.845      0.631      0.702       0.41\n",
            "             Red Light        801        108      0.856      0.604      0.715      0.451\n",
            "       Speed Limit 100        801         52      0.929      0.942      0.978      0.882\n",
            "       Speed Limit 110        801         17      0.999          1      0.995      0.937\n",
            "       Speed Limit 120        801         60      0.965       0.95       0.99      0.906\n",
            "        Speed Limit 20        801         56      0.985      0.893      0.981      0.868\n",
            "        Speed Limit 30        801         74      0.953      0.946      0.975      0.912\n",
            "        Speed Limit 40        801         55      0.966      0.909      0.982      0.874\n",
            "        Speed Limit 50        801         71      0.966      0.801       0.93      0.834\n",
            "        Speed Limit 60        801         76      0.966      0.895      0.944      0.868\n",
            "        Speed Limit 70        801         78      0.981      0.962      0.984      0.896\n",
            "        Speed Limit 80        801         56      0.887      0.893      0.951      0.843\n",
            "        Speed Limit 90        801         38      0.944      0.658      0.755      0.668\n",
            "                  Stop        801         81      0.991          1      0.995      0.931\n",
            "Speed: 0.2ms preprocess, 1.5ms inference, 0.0ms loss, 1.7ms postprocess per image\n",
            "Results saved to \u001b[1mruns/detect/train\u001b[0m\n"
          ]
        }
      ]
    },
    {
      "cell_type": "code",
      "source": [
        "# Loading the best performing model\n",
        "Valid_model = YOLO('/content/drive/MyDrive/car/runs/detect/train/weights/signal_best.pt')\n",
        "\n",
        "# Evaluating the model on the testset\n",
        "metrics = Valid_model.val(split = 'test')"
      ],
      "metadata": {
        "colab": {
          "base_uri": "https://localhost:8080/"
        },
        "id": "ZGFBQewTVnSu",
        "outputId": "473350ee-8cc1-4951-b029-b25cb21321ba"
      },
      "execution_count": 42,
      "outputs": [
        {
          "output_type": "stream",
          "name": "stdout",
          "text": [
            "Ultralytics YOLOv8.0.222 🚀 Python-3.10.12 torch-2.1.0+cu118 CUDA:0 (Tesla T4, 15102MiB)\n",
            "YOLOv8n summary (fused): 168 layers, 3008573 parameters, 0 gradients, 8.1 GFLOPs\n"
          ]
        },
        {
          "output_type": "stream",
          "name": "stderr",
          "text": [
            "\u001b[34m\u001b[1mval: \u001b[0mScanning /content/drive/MyDrive/car/test/labels.cache... 638 images, 1 backgrounds, 0 corrupt: 100%|██████████| 638/638 [00:00<?, ?it/s]\n",
            "                 Class     Images  Instances      Box(P          R      mAP50  mAP50-95): 100%|██████████| 40/40 [00:08<00:00,  4.57it/s]\n"
          ]
        },
        {
          "output_type": "stream",
          "name": "stdout",
          "text": [
            "                   all        638        770      0.856      0.821      0.889      0.762\n",
            "           Green Light        638        110      0.826      0.755      0.828      0.499\n",
            "             Red Light        638         94      0.724      0.638      0.683       0.43\n",
            "        Speed Limit 10        638          3      0.676      0.333      0.624      0.454\n",
            "       Speed Limit 100        638         46      0.888      0.913      0.966      0.855\n",
            "       Speed Limit 110        638         21      0.821      0.762      0.842      0.767\n",
            "       Speed Limit 120        638         44      0.922      0.977      0.976      0.887\n",
            "        Speed Limit 20        638         46      0.939       0.87      0.966      0.874\n",
            "        Speed Limit 30        638         60      0.885      0.833      0.897      0.842\n",
            "        Speed Limit 40        638         53       0.89      0.981      0.986      0.871\n",
            "        Speed Limit 50        638         50      0.819       0.78      0.881      0.791\n",
            "        Speed Limit 60        638         45      0.855      0.933      0.947      0.853\n",
            "        Speed Limit 70        638         53      0.942       0.83      0.907      0.817\n",
            "        Speed Limit 80        638         61      0.888      0.951      0.968      0.865\n",
            "        Speed Limit 90        638         34      0.786      0.755      0.874       0.72\n",
            "                  Stop        638         50      0.977          1      0.995      0.914\n",
            "Speed: 0.5ms preprocess, 2.4ms inference, 0.0ms loss, 1.4ms postprocess per image\n",
            "Results saved to \u001b[1mruns/detect/val2\u001b[0m\n"
          ]
        }
      ]
    },
    {
      "cell_type": "code",
      "source": [
        "print(\"precision(B): \", metrics.results_dict[\"metrics/precision(B)\"])\n",
        "print(\"metrics/recall(B): \", metrics.results_dict[\"metrics/recall(B)\"])\n",
        "print(\"metrics/mAP50(B): \", metrics.results_dict[\"metrics/mAP50(B)\"])\n",
        "print(\"metrics/mAP50-95(B): \", metrics.results_dict[\"metrics/mAP50-95(B)\"])"
      ],
      "metadata": {
        "colab": {
          "base_uri": "https://localhost:8080/"
        },
        "id": "8GhRYvW8Ygny",
        "outputId": "a09a70fa-e61e-4933-89ac-5bc632ba4f1b"
      },
      "execution_count": null,
      "outputs": [
        {
          "output_type": "stream",
          "name": "stdout",
          "text": [
            "precision(B):  0.8558675748454857\n",
            "metrics/recall(B):  0.8207684995009586\n",
            "metrics/mAP50(B):  0.8893720679687449\n",
            "metrics/mAP50-95(B):  0.7624938770751583\n"
          ]
        }
      ]
    },
    {
      "cell_type": "code",
      "source": [
        "# Path to the directory containing the images\n",
        "image_dir = '/content/drive/MyDrive/car/test/images'\n",
        "\n",
        "# Get a list of all image files in the directory\n",
        "image_files = [os.path.join(image_dir, file) for file in os.listdir(image_dir) if file.endswith('.jpg')]\n",
        "\n",
        "# Randomly select 10 images from the directory\n",
        "random_images = random.sample(image_files, k=10)\n",
        "\n",
        "for image_path in random_images:\n",
        "    image = cv2.imread(image_path)  # Replace with your preferred method of reading the image\n",
        "    results = Valid_model.predict([image], save=True, imgsz=416, conf=0.5, iou=0.7)\n",
        "\n",
        "    result = results[0]\n",
        "    print(result.boxes)\n",
        "    box = result.boxes\n",
        "    class_id = result.names[box.cls[0].item()]\n",
        "    print(class_id)\n",
        "\n",
        "    for box in result.boxes:\n",
        "        class_id = result.names[box.cls[0].item()]\n",
        "        print(class_id)\n",
        "\n",
        "\n",
        "\n",
        "\n",
        "\n",
        "    #results.append(result)"
      ],
      "metadata": {
        "colab": {
          "base_uri": "https://localhost:8080/"
        },
        "id": "g0QeUOwDYpGj",
        "outputId": "878e68ad-114b-4e1f-98b8-1b999b246b7d"
      },
      "execution_count": 52,
      "outputs": [
        {
          "output_type": "stream",
          "name": "stdout",
          "text": [
            "\n",
            "0: 416x416 1 Speed Limit 80, 1 Speed Limit 90, 9.8ms\n",
            "Speed: 2.8ms preprocess, 9.8ms inference, 2.0ms postprocess per image at shape (1, 3, 416, 416)\n",
            "Results saved to \u001b[1mruns/detect/predict2\u001b[0m\n",
            "ultralytics.engine.results.Boxes object with attributes:\n",
            "\n",
            "cls: tensor([13., 12.], device='cuda:0')\n",
            "conf: tensor([0.7158, 0.5380], device='cuda:0')\n",
            "data: tensor([[369.8342, 225.1738, 396.0469, 269.7361,   0.7158,  13.0000],\n",
            "        [368.7241, 225.6456, 396.0790, 270.5172,   0.5380,  12.0000]], device='cuda:0')\n",
            "id: None\n",
            "is_track: False\n",
            "orig_shape: (416, 416)\n",
            "shape: torch.Size([2, 6])\n",
            "xywh: tensor([[382.9406, 247.4550,  26.2128,  44.5623],\n",
            "        [382.4016, 248.0814,  27.3549,  44.8716]], device='cuda:0')\n",
            "xywhn: tensor([[0.9205, 0.5948, 0.0630, 0.1071],\n",
            "        [0.9192, 0.5963, 0.0658, 0.1079]], device='cuda:0')\n",
            "xyxy: tensor([[369.8342, 225.1738, 396.0469, 269.7361],\n",
            "        [368.7241, 225.6456, 396.0790, 270.5172]], device='cuda:0')\n",
            "xyxyn: tensor([[0.8890, 0.5413, 0.9520, 0.6484],\n",
            "        [0.8864, 0.5424, 0.9521, 0.6503]], device='cuda:0')\n",
            "Speed Limit 90\n",
            "Speed Limit 90\n",
            "Speed Limit 80\n",
            "\n",
            "0: 416x416 1 Speed Limit 70, 9.2ms\n",
            "Speed: 0.9ms preprocess, 9.2ms inference, 1.7ms postprocess per image at shape (1, 3, 416, 416)\n",
            "Results saved to \u001b[1mruns/detect/predict2\u001b[0m\n",
            "ultralytics.engine.results.Boxes object with attributes:\n",
            "\n",
            "cls: tensor([11.], device='cuda:0')\n",
            "conf: tensor([0.9233], device='cuda:0')\n",
            "data: tensor([[ 99.3085,  90.2596, 323.5962, 320.3817,   0.9233,  11.0000]], device='cuda:0')\n",
            "id: None\n",
            "is_track: False\n",
            "orig_shape: (416, 416)\n",
            "shape: torch.Size([1, 6])\n",
            "xywh: tensor([[211.4523, 205.3206, 224.2877, 230.1222]], device='cuda:0')\n",
            "xywhn: tensor([[0.5083, 0.4936, 0.5392, 0.5532]], device='cuda:0')\n",
            "xyxy: tensor([[ 99.3085,  90.2596, 323.5962, 320.3817]], device='cuda:0')\n",
            "xyxyn: tensor([[0.2387, 0.2170, 0.7779, 0.7701]], device='cuda:0')\n",
            "Speed Limit 70\n",
            "Speed Limit 70\n",
            "\n",
            "0: 416x416 1 Speed Limit 30, 9.3ms\n",
            "Speed: 0.9ms preprocess, 9.3ms inference, 1.6ms postprocess per image at shape (1, 3, 416, 416)\n",
            "Results saved to \u001b[1mruns/detect/predict2\u001b[0m\n",
            "ultralytics.engine.results.Boxes object with attributes:\n",
            "\n",
            "cls: tensor([7.], device='cuda:0')\n",
            "conf: tensor([0.9477], device='cuda:0')\n",
            "data: tensor([[ 59.9699,  51.2211, 347.8571, 373.0949,   0.9477,   7.0000]], device='cuda:0')\n",
            "id: None\n",
            "is_track: False\n",
            "orig_shape: (416, 416)\n",
            "shape: torch.Size([1, 6])\n",
            "xywh: tensor([[203.9135, 212.1580, 287.8872, 321.8738]], device='cuda:0')\n",
            "xywhn: tensor([[0.4902, 0.5100, 0.6920, 0.7737]], device='cuda:0')\n",
            "xyxy: tensor([[ 59.9699,  51.2211, 347.8571, 373.0949]], device='cuda:0')\n",
            "xyxyn: tensor([[0.1442, 0.1231, 0.8362, 0.8969]], device='cuda:0')\n",
            "Speed Limit 30\n",
            "Speed Limit 30\n",
            "\n",
            "0: 416x416 1 Speed Limit 110, 8.4ms\n",
            "Speed: 0.9ms preprocess, 8.4ms inference, 1.2ms postprocess per image at shape (1, 3, 416, 416)\n",
            "Results saved to \u001b[1mruns/detect/predict2\u001b[0m\n",
            "ultralytics.engine.results.Boxes object with attributes:\n",
            "\n",
            "cls: tensor([4.], device='cuda:0')\n",
            "conf: tensor([0.9684], device='cuda:0')\n",
            "data: tensor([[127.3467, 127.6476, 294.0715, 234.1143,   0.9684,   4.0000]], device='cuda:0')\n",
            "id: None\n",
            "is_track: False\n",
            "orig_shape: (416, 416)\n",
            "shape: torch.Size([1, 6])\n",
            "xywh: tensor([[210.7091, 180.8810, 166.7247, 106.4667]], device='cuda:0')\n",
            "xywhn: tensor([[0.5065, 0.4348, 0.4008, 0.2559]], device='cuda:0')\n",
            "xyxy: tensor([[127.3467, 127.6476, 294.0715, 234.1143]], device='cuda:0')\n",
            "xyxyn: tensor([[0.3061, 0.3068, 0.7069, 0.5628]], device='cuda:0')\n",
            "Speed Limit 110\n",
            "Speed Limit 110\n",
            "\n",
            "0: 416x416 1 Speed Limit 90, 6.9ms\n",
            "Speed: 0.9ms preprocess, 6.9ms inference, 1.2ms postprocess per image at shape (1, 3, 416, 416)\n",
            "Results saved to \u001b[1mruns/detect/predict2\u001b[0m\n",
            "ultralytics.engine.results.Boxes object with attributes:\n",
            "\n",
            "cls: tensor([13.], device='cuda:0')\n",
            "conf: tensor([0.8951], device='cuda:0')\n",
            "data: tensor([[200.9114, 142.2698, 246.9306, 176.5230,   0.8951,  13.0000]], device='cuda:0')\n",
            "id: None\n",
            "is_track: False\n",
            "orig_shape: (416, 416)\n",
            "shape: torch.Size([1, 6])\n",
            "xywh: tensor([[223.9210, 159.3964,  46.0192,  34.2532]], device='cuda:0')\n",
            "xywhn: tensor([[0.5383, 0.3832, 0.1106, 0.0823]], device='cuda:0')\n",
            "xyxy: tensor([[200.9114, 142.2698, 246.9306, 176.5230]], device='cuda:0')\n",
            "xyxyn: tensor([[0.4830, 0.3420, 0.5936, 0.4243]], device='cuda:0')\n",
            "Speed Limit 90\n",
            "Speed Limit 90\n",
            "\n",
            "0: 416x416 1 Speed Limit 20, 7.5ms\n",
            "Speed: 1.1ms preprocess, 7.5ms inference, 1.2ms postprocess per image at shape (1, 3, 416, 416)\n",
            "Results saved to \u001b[1mruns/detect/predict2\u001b[0m\n",
            "ultralytics.engine.results.Boxes object with attributes:\n",
            "\n",
            "cls: tensor([6.], device='cuda:0')\n",
            "conf: tensor([0.9409], device='cuda:0')\n",
            "data: tensor([[ 80.6624,  80.0535, 348.3881, 343.3678,   0.9409,   6.0000]], device='cuda:0')\n",
            "id: None\n",
            "is_track: False\n",
            "orig_shape: (416, 416)\n",
            "shape: torch.Size([1, 6])\n",
            "xywh: tensor([[214.5253, 211.7107, 267.7257, 263.3143]], device='cuda:0')\n",
            "xywhn: tensor([[0.5157, 0.5089, 0.6436, 0.6330]], device='cuda:0')\n",
            "xyxy: tensor([[ 80.6624,  80.0535, 348.3881, 343.3678]], device='cuda:0')\n",
            "xyxyn: tensor([[0.1939, 0.1924, 0.8375, 0.8254]], device='cuda:0')\n",
            "Speed Limit 20\n",
            "Speed Limit 20\n",
            "\n",
            "0: 416x416 1 Speed Limit 50, 1 Speed Limit 80, 15.1ms\n",
            "Speed: 1.2ms preprocess, 15.1ms inference, 1.9ms postprocess per image at shape (1, 3, 416, 416)\n",
            "Results saved to \u001b[1mruns/detect/predict2\u001b[0m\n",
            "ultralytics.engine.results.Boxes object with attributes:\n",
            "\n",
            "cls: tensor([12.,  9.], device='cuda:0')\n",
            "conf: tensor([0.9557, 0.9528], device='cuda:0')\n",
            "data: tensor([[ 44.1403, 238.6644, 144.3428, 366.7063,   0.9557,  12.0000],\n",
            "        [ 51.0422,  73.4128, 147.8131, 203.4084,   0.9528,   9.0000]], device='cuda:0')\n",
            "id: None\n",
            "is_track: False\n",
            "orig_shape: (416, 416)\n",
            "shape: torch.Size([2, 6])\n",
            "xywh: tensor([[ 94.2416, 302.6854, 100.2025, 128.0419],\n",
            "        [ 99.4276, 138.4106,  96.7709, 129.9957]], device='cuda:0')\n",
            "xywhn: tensor([[0.2265, 0.7276, 0.2409, 0.3078],\n",
            "        [0.2390, 0.3327, 0.2326, 0.3125]], device='cuda:0')\n",
            "xyxy: tensor([[ 44.1403, 238.6644, 144.3428, 366.7063],\n",
            "        [ 51.0422,  73.4128, 147.8131, 203.4084]], device='cuda:0')\n",
            "xyxyn: tensor([[0.1061, 0.5737, 0.3470, 0.8815],\n",
            "        [0.1227, 0.1765, 0.3553, 0.4890]], device='cuda:0')\n",
            "Speed Limit 80\n",
            "Speed Limit 80\n",
            "Speed Limit 50\n",
            "\n",
            "0: 416x416 1 Speed Limit 120, 8.2ms\n",
            "Speed: 0.9ms preprocess, 8.2ms inference, 1.2ms postprocess per image at shape (1, 3, 416, 416)\n",
            "Results saved to \u001b[1mruns/detect/predict2\u001b[0m\n",
            "ultralytics.engine.results.Boxes object with attributes:\n",
            "\n",
            "cls: tensor([5.], device='cuda:0')\n",
            "conf: tensor([0.8505], device='cuda:0')\n",
            "data: tensor([[249.1952, 169.1859, 280.5869, 218.1668,   0.8505,   5.0000]], device='cuda:0')\n",
            "id: None\n",
            "is_track: False\n",
            "orig_shape: (416, 416)\n",
            "shape: torch.Size([1, 6])\n",
            "xywh: tensor([[264.8911, 193.6763,  31.3917,  48.9809]], device='cuda:0')\n",
            "xywhn: tensor([[0.6368, 0.4656, 0.0755, 0.1177]], device='cuda:0')\n",
            "xyxy: tensor([[249.1952, 169.1859, 280.5869, 218.1668]], device='cuda:0')\n",
            "xyxyn: tensor([[0.5990, 0.4067, 0.6745, 0.5244]], device='cuda:0')\n",
            "Speed Limit 120\n",
            "Speed Limit 120\n",
            "\n",
            "0: 416x416 1 Speed Limit 20, 6.3ms\n",
            "Speed: 1.3ms preprocess, 6.3ms inference, 1.3ms postprocess per image at shape (1, 3, 416, 416)\n",
            "Results saved to \u001b[1mruns/detect/predict2\u001b[0m\n",
            "ultralytics.engine.results.Boxes object with attributes:\n",
            "\n",
            "cls: tensor([6.], device='cuda:0')\n",
            "conf: tensor([0.9418], device='cuda:0')\n",
            "data: tensor([[ 97.9251,  91.1038, 337.3949, 327.9682,   0.9418,   6.0000]], device='cuda:0')\n",
            "id: None\n",
            "is_track: False\n",
            "orig_shape: (416, 416)\n",
            "shape: torch.Size([1, 6])\n",
            "xywh: tensor([[217.6600, 209.5360, 239.4698, 236.8644]], device='cuda:0')\n",
            "xywhn: tensor([[0.5232, 0.5037, 0.5756, 0.5694]], device='cuda:0')\n",
            "xyxy: tensor([[ 97.9251,  91.1038, 337.3949, 327.9682]], device='cuda:0')\n",
            "xyxyn: tensor([[0.2354, 0.2190, 0.8110, 0.7884]], device='cuda:0')\n",
            "Speed Limit 20\n",
            "Speed Limit 20\n",
            "\n",
            "0: 416x416 1 Speed Limit 30, 7.9ms\n",
            "Speed: 1.0ms preprocess, 7.9ms inference, 1.2ms postprocess per image at shape (1, 3, 416, 416)\n",
            "Results saved to \u001b[1mruns/detect/predict2\u001b[0m\n",
            "ultralytics.engine.results.Boxes object with attributes:\n",
            "\n",
            "cls: tensor([7.], device='cuda:0')\n",
            "conf: tensor([0.7642], device='cuda:0')\n",
            "data: tensor([[ 40.3766,  65.9482, 369.9024, 217.7509,   0.7642,   7.0000]], device='cuda:0')\n",
            "id: None\n",
            "is_track: False\n",
            "orig_shape: (416, 416)\n",
            "shape: torch.Size([1, 6])\n",
            "xywh: tensor([[205.1395, 141.8496, 329.5258, 151.8027]], device='cuda:0')\n",
            "xywhn: tensor([[0.4931, 0.3410, 0.7921, 0.3649]], device='cuda:0')\n",
            "xyxy: tensor([[ 40.3766,  65.9482, 369.9024, 217.7509]], device='cuda:0')\n",
            "xyxyn: tensor([[0.0971, 0.1585, 0.8892, 0.5234]], device='cuda:0')\n",
            "Speed Limit 30\n",
            "Speed Limit 30\n"
          ]
        }
      ]
    },
    {
      "cell_type": "code",
      "source": [
        "print(results)"
      ],
      "metadata": {
        "id": "OI__TUhK2tAV"
      },
      "execution_count": null,
      "outputs": []
    },
    {
      "cell_type": "code",
      "source": [
        "# View results\n",
        "for i in range(2,11):\n",
        "    plt.imshow(plt.imread(f'/content/runs/detect/predict/image0.jpg'))\n",
        "    plt.show()\n",
        "\n",
        "plt.imshow(plt.imread(f'/content/runs/detect/train/image0.jpg'))"
      ],
      "metadata": {
        "id": "F3tvtIkeY0Np"
      },
      "execution_count": null,
      "outputs": []
    },
    {
      "cell_type": "code",
      "source": [
        "im1 = Image.open('/content/drive/MyDrive/archive/traffic_Data/TEST/TEST/000_0003_j.png')  # PIL image\n",
        "im2 = Image.open('/content/drive/MyDrive/archive/traffic_Data/TEST/TEST/002_0002_j.png')  # PIL image\n",
        "im3 = Image.open('/content/drive/MyDrive/archive/traffic_Data/TEST/TEST/003_1_0010_1_j.png')  # PIL image\n",
        "im4 = Image.open('/content/drive/MyDrive/archive/traffic_Data/TEST/TEST/004_0021_j.png')  # PIL image"
      ],
      "metadata": {
        "id": "3r0CW3RUUR-H"
      },
      "execution_count": 24,
      "outputs": []
    },
    {
      "cell_type": "code",
      "source": [
        "import torch\n",
        "import torchvision\n",
        "import torch\n",
        "import cv2\n",
        "from torchvision import transforms\n",
        "\n",
        "model = torch.load('/content/drive/MyDrive/car/runs/detect/train/weights/signal_best.pt')\n",
        "\n",
        "model = model['model']\n"
      ],
      "metadata": {
        "id": "DKiGvW5HU8SQ"
      },
      "execution_count": 40,
      "outputs": []
    },
    {
      "cell_type": "code",
      "source": [],
      "metadata": {
        "id": "R2lss8HP8VMQ"
      },
      "execution_count": null,
      "outputs": []
    }
  ]
}